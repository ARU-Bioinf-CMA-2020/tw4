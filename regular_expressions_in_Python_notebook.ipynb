{
 "cells": [
  {
   "cell_type": "markdown",
   "metadata": {},
   "source": [
    "# Regular expressions and patterns in sequences.\n",
    "\n",
    "It is a recurring theme of patterns in biological sequences that some positions are observed to be more conserved than others. The variable positions may be more variable because mutations are less likely to occur at these positions - or that they are not functionally or structurally crucial. \n",
    "\n",
    "In coding regions of exons the degeneracy of the genetic code means that mutations at the third position of codons may not change the resulting protein. And at the protein level some amino acid residues are more similar to each other and can be inter-changeable. For example both Asp and Glu may supply a negatively-charged side-chains, both Arg and Lys a positively-charged ones.\n",
    "\n",
    "Regular expressions are a flexible way to specify an underlying pattern while still allowing for such variation. For this reason various syntaxes based on regular expressions are found in user interfaces of bioinformatic programs and databases."
   ]
  },
  {
   "cell_type": "code",
   "execution_count": null,
   "metadata": {},
   "outputs": [],
   "source": [
    "# run this cell to check your Python version is OK for this notebook!\n",
    "import sys\n",
    "def check_python_version_above_3_6():\n",
    "    major = sys.version_info.major\n",
    "    minor = sys.version_info.minor\n",
    "    if major < 3 or minor < 6:\n",
    "        print('ERROR you need to run this notebook with Python 3.6 or above (as f-strings used)')\n",
    "        print('ERROR current Python version is {}.{}'.format(major, minor))        \n",
    "        print('ERROR Please see:\\n',\n",
    "              '      https://canvas.anglia.ac.uk/courses/15139/pages/azure-notebooks-switching-kernel\\n'\n",
    "              '      for information on switching kernel on Azure Notebooks')\n",
    "    else:\n",
    "        print('Python version {}.{} you are good to go'.format(major, minor))\n",
    "check_python_version_above_3_6()"
   ]
  },
  {
   "cell_type": "markdown",
   "metadata": {},
   "source": [
    "## DataCamp Python Regular Expression Tutorial\n",
    "\n",
    "Regular expressions are very powerful but take a bit of getting used. So first work through this DataCamp tutorial https://www.datacamp.com/community/tutorials/python-regular-expression-tutorial\n",
    "\n",
    "Add notebook cells below as you work through the DataCamp tutorial."
   ]
  },
  {
   "cell_type": "code",
   "execution_count": null,
   "metadata": {},
   "outputs": [],
   "source": [
    "# work through DataCamp tutorial"
   ]
  },
  {
   "cell_type": "markdown",
   "metadata": {},
   "source": [
    "## Python Regular Expressions Cheat Sheet.\n",
    "\n",
    "Regular expressions are a bit complicated and a good one page cheat sheet is a great help. So print out or store:\n",
    "\n",
    "https://www.dataquest.io/wp-content/uploads/2019/03/python-regular-expressions-cheat-sheet.pdf"
   ]
  },
  {
   "cell_type": "markdown",
   "metadata": {},
   "source": [
    "## Regular expressions in Python\n",
    "\n",
    "Python has sophisticated regular expression functions available in the module *re*. "
   ]
  },
  {
   "cell_type": "code",
   "execution_count": null,
   "metadata": {},
   "outputs": [],
   "source": [
    "# run this cell to import Python regular expression library re\n",
    "import re"
   ]
  },
  {
   "cell_type": "markdown",
   "metadata": {},
   "source": [
    "Regular expressions use a range of special characters in patterns. And as here is a limited number of special characters  some of these clash with usage in Python. \n",
    "\n",
    "One way around this is to preface strings with `r` for raw. Compare the print output of the following two strings. "
   ]
  },
  {
   "cell_type": "code",
   "execution_count": null,
   "metadata": {},
   "outputs": [],
   "source": [
    "# run this cell to see how Python process \\t and \\n\n",
    "print(\"\\t1\\n2\")"
   ]
  },
  {
   "cell_type": "code",
   "execution_count": null,
   "metadata": {},
   "outputs": [],
   "source": [
    "# run this cell to see how the preface r means string is made \"raw\"\n",
    "print(r\"\\t1\\n2\")"
   ]
  },
  {
   "cell_type": "markdown",
   "metadata": {},
   "source": [
    "The regular expression `re search` function https://docs.python.org/3/library/re.html#re.search can be used to find patterns in reasonably short sequences. For example, restriction enzymes have specific recognition sites in DNA. For simplicity this exercise ignore the fact that DNA has two strands!"
   ]
  },
  {
   "cell_type": "code",
   "execution_count": null,
   "metadata": {},
   "outputs": [],
   "source": [
    "# run this cell to see a simple regular expression with re search\n",
    "dna = \"TATAGAATTCATAAATT\"\n",
    "if re.search(r\"GAATTC\", dna):\n",
    "    print(\"EcoRI site found.\")"
   ]
  },
  {
   "cell_type": "markdown",
   "metadata": {},
   "source": [
    "Note in the example above there was no need for the pattern to be made a raw string but it does not hurt.\n",
    "\n",
    "Of course for an exact match like this there are the usual string methods available of the form `text.find(substring)`. But some restriction enzymes recognise ambiguous sequences. You will be aware of the [ambiguous nomenclature for DNA bases](https://www.dnabaser.com/articles/IUPAC%20ambiguity%20codes.html): for example: R is any purine (A or G), Y is a pyrimidine (C or T). Unfortunately Python does not recognise these codes out of the box.  \n",
    "\n",
    "As an example *AvaII* cuts the pattern GGWCC where W is either an A or a T (the converse is S for C or G). \n",
    "So this can be expressed using the regular expression symbol | for alternatives."
   ]
  },
  {
   "cell_type": "code",
   "execution_count": null,
   "metadata": {},
   "outputs": [],
   "source": [
    "dna = \"TTATCGGTCCGC\"\n",
    "if re.search(r\"GG(A|T)CC\", dna):\n",
    "    print(\"AvaII site found.\")"
   ]
  },
  {
   "cell_type": "markdown",
   "metadata": {},
   "source": [
    "*BisI* cuts the pattern GCNGC where, as you know., N stands for a nucleotide with any base."
   ]
  },
  {
   "cell_type": "code",
   "execution_count": null,
   "metadata": {},
   "outputs": [],
   "source": [
    "dna = \"TCTTAGCAGCAATTCCGC\"\n",
    "if re.search(r\"GC(A|C|G|T)GC\", dna):\n",
    "    print(\"BisI site found.\")"
   ]
  },
  {
   "cell_type": "markdown",
   "metadata": {},
   "source": [
    "Or by including a character class with a list of the alternatives."
   ]
  },
  {
   "cell_type": "code",
   "execution_count": null,
   "metadata": {},
   "outputs": [],
   "source": [
    "dna = \"TCTTAGCAGCAATTCCGC\"\n",
    "if re.search(r\"GC[ACGT]GC\", dna):\n",
    "    print(\"BisI site found.\")"
   ]
  },
  {
   "cell_type": "markdown",
   "metadata": {},
   "source": [
    "The symbol . will match any character - so that could match any nucleotide."
   ]
  },
  {
   "cell_type": "code",
   "execution_count": null,
   "metadata": {},
   "outputs": [],
   "source": [
    "dna = \"TCTTAGCAGCAATTCCGC\"\n",
    "if re.search(r\"GC.GC\", dna):\n",
    "    print(\"BisI site found.\")"
   ]
  },
  {
   "cell_type": "markdown",
   "metadata": {},
   "source": [
    "Unfortunately it would also match GCQGC, GCWGC, and even GC.GC  \n",
    "\n",
    "Repeats of characters can be specified using symbols ? (0 or 1 times), * (0 to infinity), or + (1 to infinity). Notice that unlike the case of * in linux the modifier applies to the symbol in front of them.\n",
    "\n",
    "For instance, to search for at least 3A's in a row:"
   ]
  },
  {
   "cell_type": "code",
   "execution_count": null,
   "metadata": {},
   "outputs": [],
   "source": [
    "dna = \"TCTTAGCAGCAAAAAAAAAAAAATTCCGC\"\n",
    "if re.search(r\"AAA+\", dna):\n",
    "    print(\"poly(A) found.\")"
   ]
  },
  {
   "cell_type": "markdown",
   "metadata": {},
   "source": [
    "Specific numbers can be given as a number range in {} after the character. For example {n} for a single specific number, {n,m} for number n to number m times, {n,} for n to infinity times {,m} for 0 to m times. Multicharacter patterns can be grouped together using parentheses. \n",
    "\n",
    "For example an intronic region in the human VWF gene contains variable numbers of tetranucleotide repeats that are used for forensic identification. Alleles differ in the number of repeats. Here is a check on an individual for the commonest short variants of that which have TCTA[TCTG]3-4[TCTA]7-11."
   ]
  },
  {
   "cell_type": "code",
   "execution_count": null,
   "metadata": {},
   "outputs": [],
   "source": [
    "dna = \"TTGATTCTATCTGTCTGTCTGTCTGTCTATCTATCTATCTATCTATCTATCTATCTTCCA\"\n",
    "if re.search(r\"TCTA(TCTG){3,4}(TCTA){7,11}\", dna):\n",
    "    print(\"STR allele found.\")"
   ]
  },
  {
   "cell_type": "markdown",
   "metadata": {},
   "source": [
    "Full specification of the use of special characters are in the documentation at https://docs.python.org/3/library/re.html"
   ]
  },
  {
   "cell_type": "markdown",
   "metadata": {},
   "source": [
    "## User exercise (a) - regular expression for the restriction enzyme HinfI\n",
    "\n",
    "From https://international.neb.com/products/r0155-hinfi#Product%20Information  find out the recognition sequence for the restriction enzyme HinfI. Then write Python code using a regular expression to check whether HinfI will cut the following sequences:"
   ]
  },
  {
   "cell_type": "code",
   "execution_count": null,
   "metadata": {},
   "outputs": [],
   "source": [
    "test_dnas = {'sequence_a' : 'TTGATGCTATCTGTCTGTCTGTCTGTCTATCTATCTATCTATCTATCTATCTATCTTCCA',\n",
    "             'sequence_b' : 'TTGATTCTATCTGTCTGTCTGTCTGATTCATCTATCTATCTATCTATCTATCTATCTTCCA',\n",
    "             'sequence_c' : 'AAAGATTCAAA',\n",
    "             'sequence_d' : 'AAACTTAGA'}"
   ]
  },
  {
   "cell_type": "markdown",
   "metadata": {},
   "source": [
    "Your code should produce output of the form:\n",
    "\n",
    "```\n",
    "sequence_a not cut by HinfI\n",
    "sequence_b is cut by HinfI\n",
    "sequence_c is cut by HinfI\n",
    "sequence_d not cut by HinfI\n",
    "```\n",
    "\n",
    "**Please note that you will be asked for your code and its output in this week's quiz**"
   ]
  },
  {
   "cell_type": "code",
   "execution_count": null,
   "metadata": {},
   "outputs": [],
   "source": [
    "# your Python code"
   ]
  },
  {
   "cell_type": "markdown",
   "metadata": {},
   "source": [
    "## Match and regex objects\n",
    "\n",
    "The examples above give the impression that the `re search` function returns either `True` or `False`. \n",
    "But this is not the case, instead it returns either `None` if not match is found or [match object](https://docs.python.org/3/library/re.html#match-objects) that has a boolean value of `True`.\n",
    "A match object represents the results of a regular expression `search` and has a number of useful methods for getting data out of it.\n",
    "\n",
    "Going back to the *AvaII* example."
   ]
  },
  {
   "cell_type": "code",
   "execution_count": null,
   "metadata": {},
   "outputs": [],
   "source": [
    "# run this cell to see how match object works\n",
    "dna = \"TTATCGGTCCGC\"\n",
    "avaii_match = re.search(r\"GG(A|T)CC\", dna)\n",
    "if avaii_match:\n",
    "    print('AvaII site found.')\n",
    "    print('string that was matched:', avaii_match.group())\n",
    "    print('index in string for start of match: ', avaii_match.start())\n",
    "    print('index in string after end of match: ', avaii_match.end())\n",
    "    print('index (start to end+1) for match: ', avaii_match.span())\n",
    "else:\n",
    "    print('AvaII site not found.')\n",
    "    "
   ]
  },
  {
   "cell_type": "code",
   "execution_count": null,
   "metadata": {},
   "outputs": [],
   "source": [
    "# user mini exercise modify this code to print out the length of the poly-A match in the string:\n",
    "dna = \"TCTTAGCAGCAAAAAAAAAAAAATTCCGC\"\n",
    "if re.search(r\"AAA+\", dna):\n",
    "    print(\"poly(A) found.\")"
   ]
  },
  {
   "cell_type": "markdown",
   "metadata": {},
   "source": [
    "If a regular expression is used multiple times it is more efficient to *compile* it into a regular expression object using the [`re compile` function](https://docs.python.org/3/library/re.html#re.compile) "
   ]
  },
  {
   "cell_type": "markdown",
   "metadata": {},
   "source": [
    "Remember in general you need to check that the pattern found a match otherwise the search will return `None` and an exception will occur as there is nothing to interrogate or print. Here we apply a search for the AvaII restriction site to a sequences and a mutated form but only one returns the match:"
   ]
  },
  {
   "cell_type": "code",
   "execution_count": null,
   "metadata": {},
   "outputs": [],
   "source": [
    "# run this cell to see how to use a compiled re\n",
    "seqs = [\"TTATCGGTCCGC\",\"TTATCGGGCCGC\"]\n",
    "avaii_re = re.compile(r\"GG(A|T)CC\") \n",
    "for seq in seqs:\n",
    "    match = avaii_re.search(seq)\n",
    "    if match:\n",
    "        print('AvaII site found at:', match.span())\n",
    "    else:\n",
    "        print(\"AvaII site not found.\")"
   ]
  },
  {
   "cell_type": "markdown",
   "metadata": {},
   "source": [
    "## finding multiple occurences of a pattern\n",
    "\n",
    "The `re.search(pattern,string)` function (https://docs.python.org/3/library/re.html#re.search) will find the first location where regular expression matches.\n",
    "\n",
    "For finding multiple occurrences there is the function `re.finditer(pattern, string)` (https://docs.python.org/3/library/re.html#re.finditer). \n",
    "\n",
    "For example, ambiguous bases in a sequence can be found using the expression [^ATGC] where the ^ character inverts the selection (meaning not A T G or C).  (Please note, outside square brackets [ ] the ^ character is used to mark the position of the pattern as the start of the string).   "
   ]
  },
  {
   "cell_type": "code",
   "execution_count": null,
   "metadata": {},
   "outputs": [],
   "source": [
    "# run this cell to see how re.finditer can be used\n",
    "dna = 'GGTGAGRTAAGAAGGGGYTAAGAGAGGATWAGG' \n",
    "ambiguous_base = re.compile(r'[^ATGC]')\n",
    "for match in ambiguous_base.finditer(dna): \n",
    "    base = match.group() \n",
    "    pos  = match.start() + 1 # sequence position with 1 for start \n",
    "    print(f\"{base} found at position {pos}\")"
   ]
  },
  {
   "cell_type": "markdown",
   "metadata": {},
   "source": [
    "## Splitting a sequence using a regular expression\n",
    "There is a function `re.search(pattern,string)` https://docs.python.org/3/library/re.html#re.split to split a string based on a regular expression. Here the sequence is split at each ambiguous base using the regex object `ambiguous_base` defined above. Notice that the actual pattern is omitted from the output strings."
   ]
  },
  {
   "cell_type": "code",
   "execution_count": null,
   "metadata": {},
   "outputs": [],
   "source": [
    "print(ambiguous_base.split(dna))"
   ]
  },
  {
   "cell_type": "markdown",
   "metadata": {},
   "source": [
    "Further examples of regular expressions for sequence manipulation are covered in *Chapter 5* of Rocha & Ferreira (2008) *Bioinformatics Algorithms*."
   ]
  },
  {
   "cell_type": "markdown",
   "metadata": {},
   "source": [
    "## User exercise (b) finding restriction enzymes sites on a cloning vector plasmid\n",
    "\n",
    "Plasmids are circular bits of DNA. We will use pBR322 as an example. First read the wikipedia page on pBR322\n",
    "https://en.wikipedia.org/wiki/PBR322\n",
    "\n",
    "In this exercise we want to find the number of cut sites for a set of restriction enzymes on pBR322 and the position of the first restriction site on the plasmid.\n",
    "\n",
    "| Restriction enzyme| recognition sequence$\n",
    "| ----------------- |---------------------\n",
    "| HindIII           | AAGCTT\n",
    "| EcoRV             | GATATC\n",
    "| EcoRI             | GAATTC\n",
    "| BisI              | GCNGC\n",
    "| AvaII             | GGWCC\n",
    "| XmaI              | CCCGGG\n",
    "\n",
    "$Please note that [ambiguity codes](https://www.dnabaser.com/articles/IUPAC%20ambiguity%20codes.html) are used.\n",
    "\n",
    "The expected result for the first three enzymes is shown on this schematic representation: \n",
    "<img src=\"https://upload.wikimedia.org/wikipedia/commons/thumb/5/5b/PBR322.svg/465px-PBR322.svg.png\">\n",
    "Further information at https://www.neb.com/~/media/nebus/page%20images/tools%20and%20resources/interactive%20tools/dna%20sequences%20and%20maps/pbr322_map.pdf"
   ]
  },
  {
   "cell_type": "code",
   "execution_count": null,
   "metadata": {},
   "outputs": [],
   "source": [
    "# run this cell to download the DNA sequence of pbr322 and store it as pbr_322\n",
    "import requests\n",
    "def supply_pbr322_sequence():\n",
    "    \"\"\"returns DNA sequence of pBR322 plasmid from ENA\"\"\"\n",
    "    url = 'https://www.ebi.ac.uk/ena/browser/api/fasta/J01749.1?download=true'\n",
    "    sequence = requests.get(url).text\n",
    "    lines = sequence.splitlines()\n",
    "    lines.pop(0) # get rid of header\n",
    "    sequence = ''.join(lines)\n",
    "    return sequence\n",
    "pbr322_dna = supply_pbr322_sequence()"
   ]
  },
  {
   "cell_type": "markdown",
   "metadata": {},
   "source": [
    "First write python to check that pbr322 is 4361 base pairs long"
   ]
  },
  {
   "cell_type": "code",
   "execution_count": null,
   "metadata": {},
   "outputs": [],
   "source": [
    "# write python to check that pbr322_dna has 4361 base pairs as expected"
   ]
  },
  {
   "cell_type": "code",
   "execution_count": null,
   "metadata": {},
   "outputs": [],
   "source": [
    "# now write Python to report the number of times each restriction enzyme cuts or\n",
    "# that it does not cut. You should use regular expressions.\n",
    "# You are recommend to store the regular expression patterns in a Python dictionary \n",
    "# with the restriction enzyme name as a key."
   ]
  },
  {
   "cell_type": "markdown",
   "metadata": {},
   "source": [
    "**Please note that you will be asked for your code and its output in this week's quiz**"
   ]
  },
  {
   "cell_type": "markdown",
   "metadata": {},
   "source": [
    "## Advanced exercise using Biopython `Restriction` class\n",
    "\n",
    "If you are actually working with restriction enzymes there is no need to reinvent the wheel as Biopython already has an excellent `Restriction` class. You will need to install biopython to use it, in conda this is easy:\n",
    "```\n",
    "conda install biopython\n",
    "```"
   ]
  },
  {
   "cell_type": "code",
   "execution_count": null,
   "metadata": {},
   "outputs": [],
   "source": [
    "# this should install biopython on Azure notebooks\n",
    "# https://notebooks.azure.com/help/jupyter-notebooks/package-installation\n",
    "!conda install biopython -y"
   ]
  },
  {
   "cell_type": "code",
   "execution_count": null,
   "metadata": {},
   "outputs": [],
   "source": [
    "# import the Restiction class from BioPython checking \n",
    "try:\n",
    "    from Bio import Restriction\n",
    "except ModuleNotFoundError:\n",
    "    print('ERROR BioPython not available you will need to install it')"
   ]
  },
  {
   "cell_type": "markdown",
   "metadata": {},
   "source": [
    "The Restriction class is really easy to use see http://biopython.org/DIST/docs/cookbook/Restriction.html we will have a quick look here.="
   ]
  },
  {
   "cell_type": "code",
   "execution_count": null,
   "metadata": {},
   "outputs": [],
   "source": [
    "# run this cell to see how the Restriction class knows about AvaII\n",
    "my_enzyme = Restriction.AvaII\n",
    "print(f'{my_enzyme} has a restriction site {my_enzyme.site}')"
   ]
  },
  {
   "cell_type": "code",
   "execution_count": null,
   "metadata": {},
   "outputs": [],
   "source": [
    "# run this cell to get pbr322 sequence into biopython\n",
    "# there is probably a better way provided by ?????\n",
    "pbr322_dna = supply_pbr322_sequence()  # defined above\n",
    "from Bio.Seq import Seq\n",
    "from Bio.Alphabet.IUPAC import IUPACAmbiguousDNA\n",
    "amb = IUPACAmbiguousDNA()\n",
    "pbr322_seq = Seq(pbr322_dna, amb)"
   ]
  },
  {
   "cell_type": "code",
   "execution_count": null,
   "metadata": {},
   "outputs": [],
   "source": [
    "# run this cell to see where there are BisI recognition sites in pbr322_seq \n",
    "sites = my_enzyme.search(pbr322_seq)\n",
    "print(f'Restriction sites for {my_enzyme} : {sites}')"
   ]
  },
  {
   "cell_type": "markdown",
   "metadata": {},
   "source": [
    "**Advanced user exercise** Repeat exercise (b) above using Biopython `Restriction` class. Remember the DNA is circular - see http://biopython.org/DIST/docs/cookbook/Restriction.html#1.5"
   ]
  },
  {
   "cell_type": "code",
   "execution_count": null,
   "metadata": {},
   "outputs": [],
   "source": [
    "# write Python repeating (b) using biopython rather than re"
   ]
  },
  {
   "cell_type": "code",
   "execution_count": null,
   "metadata": {},
   "outputs": [],
   "source": []
  }
 ],
 "metadata": {
  "kernelspec": {
   "display_name": "Python 3",
   "language": "python",
   "name": "python3"
  },
  "language_info": {
   "codemirror_mode": {
    "name": "ipython",
    "version": 3
   },
   "file_extension": ".py",
   "mimetype": "text/x-python",
   "name": "python",
   "nbconvert_exporter": "python",
   "pygments_lexer": "ipython3",
   "version": "3.8.2"
  }
 },
 "nbformat": 4,
 "nbformat_minor": 2
}
