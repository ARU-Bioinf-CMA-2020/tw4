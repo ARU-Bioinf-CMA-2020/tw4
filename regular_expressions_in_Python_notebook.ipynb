{
 "cells": [
  {
   "cell_type": "markdown",
   "metadata": {},
   "source": [
    "# Regular expressions and patterns in sequences.\n",
    "\n",
    "It is a recurring theme of patterns in biological sequences that some positions are observed to be more conserved than others. The variable positions may be more variable because mutations are less likely to occur at these positions - or that they are not functionally or structurally crucial. \n",
    "\n",
    "In coding regions of exons the degeneracy of the genetic code means that mutations at the third position of codons may not change the resulting protein. And at the protein level some amino acid residues are more similar to each other and can be inter-changeable. For example both Asp and Glu may supply a negatively-charged side-chains, both Arg and Lys a positively-charged ones.\n",
    "\n",
    "Regular expressions are a flexible way to specify an underlying pattern while still allowing for such variation. For this reason various syntaxes based on regular expressions are found in user interfaces of bioinformatic programs and databases.\n",
    "\n",
    "## Regular expressions in Python\n",
    "\n",
    "Python has sophisticated regular expression functions available in the module *re*. "
   ]
  },
  {
   "cell_type": "code",
   "execution_count": 1,
   "metadata": {},
   "outputs": [],
   "source": [
    "import re"
   ]
  },
  {
   "cell_type": "markdown",
   "metadata": {},
   "source": [
    "Regular expressions use a range of special characters in patterns. And as here is a limited number of special characters  some of these clash with usage in Python. \n",
    "\n",
    "One way around this is to preface strings with r for raw. Compare the print output of the following two strings. "
   ]
  },
  {
   "cell_type": "code",
   "execution_count": 2,
   "metadata": {},
   "outputs": [
    {
     "name": "stdout",
     "output_type": "stream",
     "text": [
      "\t1\n",
      "2\n"
     ]
    }
   ],
   "source": [
    "print(\"\\t1\\n2\")"
   ]
  },
  {
   "cell_type": "code",
   "execution_count": 3,
   "metadata": {},
   "outputs": [
    {
     "name": "stdout",
     "output_type": "stream",
     "text": [
      "\\t1\\n2\n"
     ]
    }
   ],
   "source": [
    "print(r\"\\t1\\n2\")"
   ]
  },
  {
   "cell_type": "markdown",
   "metadata": {},
   "source": [
    "The regular expression search function can be used to find patterns in reasonably short sequences. For example, restriction enzymes have specific recognition sites in DNA. For simplicity ignoring that DNA has two strands!"
   ]
  },
  {
   "cell_type": "code",
   "execution_count": 4,
   "metadata": {},
   "outputs": [
    {
     "name": "stdout",
     "output_type": "stream",
     "text": [
      "EcoRI site found.\n"
     ]
    }
   ],
   "source": [
    "dna = \"TATAGAATTCATAAATT\"\n",
    "if re.search(r\"GAATTC\", dna):\n",
    "    print(\"EcoRI site found.\")"
   ]
  },
  {
   "cell_type": "markdown",
   "metadata": {},
   "source": [
    "Of course for an exact match like this there are the usual string methods available of the form text.find(subString). But some restriction enzymes recognise ambiguous sequences. You will be aware of the ambiguous nomenclature for DNA bases: for example: R is any purine (A or G), Y is a pyrimidine (C or T). Unfortunately Python does not recognise these codes out of the box.  \n",
    "\n",
    "As an example *AvaII* cuts the pattern GGWCC where W is either an A or a T (the converse is S for C or G). \n",
    "So this can be expressed using the regular expression symbol | for alternatives."
   ]
  },
  {
   "cell_type": "code",
   "execution_count": 12,
   "metadata": {},
   "outputs": [
    {
     "name": "stdout",
     "output_type": "stream",
     "text": [
      "AvaII site found.\n"
     ]
    }
   ],
   "source": [
    "dna = \"TTATCGGTCCGC\"\n",
    "if re.search(r\"GG(A|T)CC\", dna):\n",
    "    print(\"AvaII site found.\")"
   ]
  },
  {
   "cell_type": "markdown",
   "metadata": {},
   "source": [
    "*BisI* cuts the pattern GCNGC where, as you know., N stands for a nucleotide with any base."
   ]
  },
  {
   "cell_type": "code",
   "execution_count": 12,
   "metadata": {},
   "outputs": [
    {
     "name": "stdout",
     "output_type": "stream",
     "text": [
      "BisI site found.\n"
     ]
    }
   ],
   "source": [
    "dna = \"TCTTAGCAGCAATTCCGC\"\n",
    "if re.search(r\"GC(A|C|G|T)GC\", dna):\n",
    "    print(\"BisI site found.\")"
   ]
  },
  {
   "cell_type": "markdown",
   "metadata": {},
   "source": [
    "Or by including a character class with a list of the alternatives."
   ]
  },
  {
   "cell_type": "code",
   "execution_count": 13,
   "metadata": {},
   "outputs": [
    {
     "name": "stdout",
     "output_type": "stream",
     "text": [
      "BisI site found.\n"
     ]
    }
   ],
   "source": [
    "dna = \"TCTTAGCAGCAATTCCGC\"\n",
    "if re.search(r\"GC[ACGT]GC\", dna):\n",
    "    print(\"BisI site found.\")"
   ]
  },
  {
   "cell_type": "markdown",
   "metadata": {},
   "source": [
    "The symbol . will match any character - so that could match any nucleotide."
   ]
  },
  {
   "cell_type": "code",
   "execution_count": 14,
   "metadata": {},
   "outputs": [
    {
     "name": "stdout",
     "output_type": "stream",
     "text": [
      "BisI site found.\n"
     ]
    }
   ],
   "source": [
    "dna = \"TCTTAGCAGCAATTCCGC\"\n",
    "if re.search(r\"GC.GC\", dna):\n",
    "    print(\"BisI site found.\")"
   ]
  },
  {
   "cell_type": "markdown",
   "metadata": {},
   "source": [
    "Unfortunately it would also match GCQGC, GCWGC, and even GC.GC  \n",
    "Repeats of characters can be specified using symbols ? (0 or 1 times), * (0 to infinity), or + (1 to infinity). Notice that unlike the case of * in linux the modifier applies to the symbol in front of them."
   ]
  },
  {
   "cell_type": "code",
   "execution_count": 16,
   "metadata": {},
   "outputs": [
    {
     "name": "stdout",
     "output_type": "stream",
     "text": [
      "poly(A) found.\n"
     ]
    }
   ],
   "source": [
    "dna = \"TCTTAGCAGCAAAAAAAAAAAAATTCCGC\"\n",
    "if re.search(r\"GCA+GC\", dna):\n",
    "    print(\"poly(A) found.\")"
   ]
  },
  {
   "cell_type": "markdown",
   "metadata": {},
   "source": [
    "Specific numbers can be given as a number range in {} after the character. For example {n} for a single specific number, {n,m} for number n to number m times, {n,} for n to infinity times {,m} for 0 to m times. Multicharacter patterns can be grouped together using parentheses. \n",
    "\n",
    "For example an intronic region in the human VWF gene contains variable numbers of tetranucleotide repeats that are used for forensic identification. Alleles differ in the number of repeats. Here is a check on an individual for the commonest short variants of that which have TCTA[TCTG]3-4[TCTA]7-11."
   ]
  },
  {
   "cell_type": "code",
   "execution_count": 4,
   "metadata": {},
   "outputs": [
    {
     "name": "stdout",
     "output_type": "stream",
     "text": [
      "STR alleles found.\n"
     ]
    }
   ],
   "source": [
    "dna = \"TTGATTCTATCTGTCTGTCTGTCTGTCTATCTATCTATCTATCTATCTATCTATCTTCCA\"\n",
    "if re.search(r\"TCTA(TCTG){3,4}(TCTA){7,11}\", dna):\n",
    "    print(\"STR allele found.\")"
   ]
  },
  {
   "cell_type": "markdown",
   "metadata": {},
   "source": [
    "Full specification of the use of special characters are in the documentation at https://docs.python.org/3/library/re.html"
   ]
  },
  {
   "cell_type": "markdown",
   "metadata": {},
   "source": [
    "## Match and regex objects\n",
    "The examples above give the impression that the re match function is a true/false function. But if it finds a match, it doesn't return True, but rather an object that is evaluated as True in a conditional context. A match object represents the results of a regular expression search and has a number of useful methods for getting data out of it.\n",
    "\n",
    "Another useful data object is the result of interpreting the search pattern specification. This is produced by the re compile function. So if multiple searches are likely then it is worth applying this and using the regex object. \n",
    "\n",
    "Going back to the *AvaII* example."
   ]
  },
  {
   "cell_type": "code",
   "execution_count": 5,
   "metadata": {},
   "outputs": [
    {
     "name": "stdout",
     "output_type": "stream",
     "text": [
      "GGTCC\n",
      "5\n",
      "10\n",
      "(5, 10)\n"
     ]
    }
   ],
   "source": [
    "dna = \"TTATCGGTCCGC\"\n",
    "regexObj = re.compile(r\"GG(A|T)CC\")\n",
    "matchObj = regexObj.search(dna)\n",
    "print(matchObj.group()) # string that was matched\n",
    "print(matchObj.start()) # start index for the match\n",
    "print(matchObj.end()) # index just after match\n",
    "print(matchObj.span()) # (start to end+1) for match"
   ]
  },
  {
   "cell_type": "markdown",
   "metadata": {},
   "source": [
    "In general you need to check that the pattern found a match otherwise the matchObj is None and there is nothing to interrogate or print. Here is the sequences and a mutated form but only one returns the match."
   ]
  },
  {
   "cell_type": "code",
   "execution_count": 9,
   "metadata": {},
   "outputs": [
    {
     "name": "stdout",
     "output_type": "stream",
     "text": [
      "(5, 10)\n",
      "AvaII site not found.\n"
     ]
    }
   ],
   "source": [
    "seqs = [\"TTATCGGTCCGC\",\"TTATCGGGCCGC\"]\n",
    "regexObj = re.compile(r\"GG(A|T)CC\") # not needed if created already\n",
    "for seq in seqs:\n",
    "    matchObj = regexObj.search(seq)\n",
    "    if matchObj is None:\n",
    "        print(\"AvaII site not found.\")\n",
    "    else:\n",
    "        print(matchObj.span())"
   ]
  },
  {
   "cell_type": "markdown",
   "metadata": {},
   "source": [
    "For finding multiple occurrences there is the function re.finditer(). Ambiguous bases in a sequence can be found using the expression [^ATGC] where the ^ inverts the selection.  \n",
    "(Outside [ ] the ^ is used to mark the position of the pattern as the start of the string).   "
   ]
  },
  {
   "cell_type": "code",
   "execution_count": 15,
   "metadata": {},
   "outputs": [
    {
     "name": "stdout",
     "output_type": "stream",
     "text": [
      "R found at position 7\n",
      "Y found at position 18\n",
      "W found at position 30\n"
     ]
    }
   ],
   "source": [
    "dna = \"GGTGAGRTAAGAAGGGGYTAAGAGAGGATWAGG\" \n",
    "regexObj = re.compile(r\"[^ATGC]\")\n",
    "matchObj = regexObj.finditer(dna) \n",
    "for match in matchObj: \n",
    "    base = match.group() \n",
    "    pos  = match.start() + 1 #position with 1 for start \n",
    "    print(base + \" found at position \" + str(pos))"
   ]
  },
  {
   "cell_type": "markdown",
   "metadata": {},
   "source": [
    "## Splitting a sequence using a regular expression\n",
    "There is a function to split a string based on a regular expression. Here the sequence is split at each ambiguous base using the regexObj from above. Notice that the actual pattern is omitted from the output strings."
   ]
  },
  {
   "cell_type": "code",
   "execution_count": 16,
   "metadata": {},
   "outputs": [
    {
     "name": "stdout",
     "output_type": "stream",
     "text": [
      "['GGTGAG', 'TAAGAAGGGG', 'TAAGAGAGGAT', 'AGG']\n"
     ]
    }
   ],
   "source": [
    "unambig = regexObj.split(dna)\n",
    "print(runs)"
   ]
  },
  {
   "cell_type": "markdown",
   "metadata": {},
   "source": [
    "Further examples of regular expressions for sequence manipulation are covered in *Chapter 5* of Rocha & Ferreira (2008) *Bioinformatics Algorithms*."
   ]
  }
 ],
 "metadata": {
  "kernelspec": {
   "display_name": "Python 3",
   "language": "python",
   "name": "python3"
  },
  "language_info": {
   "codemirror_mode": {
    "name": "ipython",
    "version": 3
   },
   "file_extension": ".py",
   "mimetype": "text/x-python",
   "name": "python",
   "nbconvert_exporter": "python",
   "pygments_lexer": "ipython3",
   "version": "3.7.4"
  }
 },
 "nbformat": 4,
 "nbformat_minor": 2
}
